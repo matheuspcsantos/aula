print("Olá mundo!") 
print("Matheus Pizzo")

# x, y, z 
x = 4
y = 2 
z = 10 

#--------------------------------------
print(x + y) # soma 
print(z - x) # subtração 
print(z/x) # divisão 
print(y**x) # potência 
#--------------------------------------
